{
 "cells": [
  {
   "cell_type": "code",
   "execution_count": null,
   "metadata": {},
   "outputs": [],
   "source": [
    "import tensorflow as tf\n",
    "from tensorflow import keras\n",
    "import numpy as np\n",
    "import matplotlib.pyplot as plt\n",
    "\n",
    "print(tf.__version__)"
   ]
  },
  {
   "cell_type": "code",
   "execution_count": null,
   "metadata": {},
   "outputs": [],
   "source": [
    "learning_rate = 0.001\n",
    "training_epochs = 20\n",
    "batch_size = 16\n",
    "n_class = 10\n",
    "seed = 777\n",
    "lr_decay_epoch_num = 10\n",
    "\n",
    "tf.set_random_seed(seed)"
   ]
  },
  {
   "cell_type": "code",
   "execution_count": null,
   "metadata": {},
   "outputs": [],
   "source": [
    "mnist = keras.datasets.mnist\n",
    "class_names = ['0', '1', '2', '3', '4', '5', '6', '7', '8', '9']\n",
    "#mnist = keras.datasets.fashion_mnist\n",
    "#class_names = ['T-shirt/top', 'Trouser', 'Pullover', 'Dress', 'Coat', 'Sandal', 'Shirt', 'Sneaker', 'Bag', 'Ankle boot']"
   ]
  },
  {
   "cell_type": "code",
   "execution_count": null,
   "metadata": {},
   "outputs": [],
   "source": [
    "(train_images, train_labels), (test_images, test_labels) = mnist.load_data()"
   ]
  },
  {
   "cell_type": "code",
   "execution_count": null,
   "metadata": {},
   "outputs": [],
   "source": [
    "train_dataset = tf.data.Dataset.from_tensor_slices((train_images, train_labels)).shuffle(\n",
    "    buffer_size=100000).prefetch(buffer_size=batch_size).batch(batch_size).repeat()\n",
    "test_dataset = tf.data.Dataset.from_tensor_slices((test_images, test_labels)).shuffle(\n",
    "    buffer_size=100000).prefetch(buffer_size=batch_size).batch(batch_size).repeat()"
   ]
  },
  {
   "cell_type": "code",
   "execution_count": null,
   "metadata": {},
   "outputs": [],
   "source": [
    "iterator = tf.data.Iterator.from_structure(train_dataset.output_types, train_dataset.output_shapes)\n",
    "images, labels = iterator.get_next()"
   ]
  },
  {
   "cell_type": "code",
   "execution_count": null,
   "metadata": {},
   "outputs": [],
   "source": [
    "train_init = iterator.make_initializer(train_dataset)\n",
    "test_init = iterator.make_initializer(test_dataset)"
   ]
  },
  {
   "cell_type": "code",
   "execution_count": null,
   "metadata": {},
   "outputs": [],
   "source": [
    "vec_images = tf.reshape(images, [-1, 28, 28, 1])\n",
    "vec_images = tf.cast(vec_images, tf.float32) / 255.\n",
    "vec_images = tf.image.resize_bicubic(vec_images, [299, 299])\n",
    "onehot_labels = tf.one_hot(labels, 10)"
   ]
  },
  {
   "cell_type": "code",
   "execution_count": null,
   "metadata": {},
   "outputs": [],
   "source": [
    "is_train = tf.placeholder(tf.bool)"
   ]
  },
  {
   "cell_type": "code",
   "execution_count": null,
   "metadata": {},
   "outputs": [],
   "source": [
    "def conv_bn_activ_dropout(x, n_filters, kernel_size, strides, dropout_rate, training, seed, \n",
    "                          padding='SAME', activ_fn=tf.nn.relu, name=\"conv_bn_act_dr\"):\n",
    "    #with tf.variable_scope(name):\n",
    "    net = tf.layers.conv2d(x, n_filters, kernel_size, strides=strides, padding=padding, use_bias=False, \n",
    "                           kernel_initializer=tf.contrib.layers.xavier_initializer(seed=seed))\n",
    "    net = tf.layers.batch_normalization(net, training=training)\n",
    "    net = activ_fn(net)\n",
    "    if dropout_rate > 0.0:            \n",
    "        net = tf.layers.dropout(net, rate=dropout_rate, training=training, seed=seed)\n",
    "    return net"
   ]
  },
  {
   "cell_type": "code",
   "execution_count": null,
   "metadata": {},
   "outputs": [],
   "source": [
    "def conv_bn_activ(x, n_filters, kernel_size, strides=1, training=is_train, seed=seed, \n",
    "                  padding='SAME', activ_fn=tf.nn.relu, name=\"conv_bn_act\"):\n",
    "    return conv_bn_activ_dropout(x, n_filters, kernel_size, strides, 0.0, training, seed, \n",
    "                                 padding=padding, activ_fn=activ_fn, name=name)"
   ]
  },
  {
   "cell_type": "code",
   "execution_count": null,
   "metadata": {},
   "outputs": [],
   "source": [
    "def stem(x, name=\"stem\"):\n",
    "    with tf.variable_scope(name):\n",
    "        with tf.variable_scope(\"stem1\"):\n",
    "            # x : 299x299x3\n",
    "            net = conv_bn_activ(x, 32, [3, 3], 2, padding='VALID') # 149x149x32\n",
    "            net = conv_bn_activ(net, 32, [3, 3], padding='VALID') # 147x147x32\n",
    "            net = conv_bn_activ(net, 64, [3, 3]) # 147x147x64\n",
    "            b1 = tf.layers.max_pooling2d(net, [3, 3], 2, padding='VALID') # 73x73x64\n",
    "            b2 = conv_bn_activ(net, 96, [3, 3], 2, padding='VALID') # 73x73x96\n",
    "            net = tf.concat([b1, b2], axis=-1) # 73x73x160\n",
    "            print(net)\n",
    "        with tf.variable_scope(\"stem2\"):\n",
    "            b1 = conv_bn_activ(net, 64, [1, 1])\n",
    "            b1 = conv_bn_activ(b1, 96, [3, 3], padding='VALID')\n",
    "            b2 = conv_bn_activ(net, 64, [1, 1])\n",
    "            b2 = conv_bn_activ(b2, 64, [1, 7])\n",
    "            b2 = conv_bn_activ(b2, 64, [7, 1])\n",
    "            b2 = conv_bn_activ(b2, 96, [3, 3], padding='VALID')\n",
    "            net = tf.concat([b1, b2], axis=-1) # 71x71x192\n",
    "            print(net)\n",
    "        with tf.variable_scope(\"stem3\"):\n",
    "            b1 = conv_bn_activ(net, 192, [3, 3], 2, padding='VALID')\n",
    "            b2 = tf.layers.max_pooling2d(net, [3, 3], 2, padding='VALID')\n",
    "            net = tf.concat([b1, b2], axis=-1) # 35x35x384\n",
    "    print(net)\n",
    "    return net"
   ]
  },
  {
   "cell_type": "code",
   "execution_count": null,
   "metadata": {},
   "outputs": [],
   "source": [
    "def inception_A(x, name=\"inception_A\"):\n",
    "    # num of channels : 96 x 4 = 384\n",
    "    with tf.variable_scope(name):\n",
    "        b1 = tf.layers.average_pooling2d(x, [3, 3], 1, padding='SAME')\n",
    "        b1 = conv_bn_activ(b1, 96, [1, 1])\n",
    "        b2 = conv_bn_activ(x, 96, [1, 1])\n",
    "        b3 = conv_bn_activ(x, 64, [1, 1])\n",
    "        b3 = conv_bn_activ(b3, 96, [3, 3])\n",
    "        b4 = conv_bn_activ(x, 64, [1, 1])\n",
    "        b4 = conv_bn_activ(b4, 96, [3, 3])\n",
    "        b4 = conv_bn_activ(b4, 96, [3, 3])\n",
    "        net = tf.concat([b1, b2, b3, b4], axis=-1)\n",
    "        print(net)\n",
    "        return net"
   ]
  },
  {
   "cell_type": "code",
   "execution_count": null,
   "metadata": {},
   "outputs": [],
   "source": [
    "def inception_B(x, name=\"inception_B\"):\n",
    "    # num of channels : 128 + 384 + 256 + 256 = 1024\n",
    "    with tf.variable_scope(name):\n",
    "        b1 = tf.layers.average_pooling2d(x, [3, 3], 1, padding='SAME')\n",
    "        b1 = conv_bn_activ(b1, 128, [1, 1])\n",
    "        b2 = conv_bn_activ(x, 384, [1, 1])\n",
    "        b3 = conv_bn_activ(x, 192, [1, 1])\n",
    "        b3 = conv_bn_activ(b3, 224, [1, 7])\n",
    "        b3 = conv_bn_activ(b3, 256, [7, 1])\n",
    "        b4 = conv_bn_activ(x, 192, [1, 1])\n",
    "        b4 = conv_bn_activ(b4, 192, [1, 7])\n",
    "        b4 = conv_bn_activ(b4, 224, [7, 1])\n",
    "        b4 = conv_bn_activ(b4, 224, [1, 7])\n",
    "        b4 = conv_bn_activ(b4, 256, [7, 1])\n",
    "        net = tf.concat([b1, b2, b3, b4], axis=-1)\n",
    "        print(net)\n",
    "        return net"
   ]
  },
  {
   "cell_type": "code",
   "execution_count": null,
   "metadata": {},
   "outputs": [],
   "source": [
    "def inception_C(x, name=\"inception_C\"):\n",
    "    # num of channels : 256 * 6 = 1536\n",
    "    with tf.variable_scope(name):\n",
    "        b1 = tf.layers.average_pooling2d(x, [3, 3], 1, padding='SAME')\n",
    "        b1 = conv_bn_activ(b1, 256, [1, 1])\n",
    "        b2 = conv_bn_activ(x, 256, [1, 1])\n",
    "        b3 = conv_bn_activ(x, 384, [1, 1])\n",
    "        b3_1 = conv_bn_activ(b3, 256, [1, 3])\n",
    "        b3_2 = conv_bn_activ(b3, 256, [3, 1])\n",
    "        b4 = conv_bn_activ(x, 384, [1, 1])\n",
    "        b4 = conv_bn_activ(b4, 448, [1, 3])\n",
    "        b4 = conv_bn_activ(b4, 512, [3, 1])\n",
    "        b4_1 = conv_bn_activ(b4, 256, [3, 1])\n",
    "        b4_2 = conv_bn_activ(b4, 256, [1, 3])\n",
    "        net = tf.concat([b1, b2, b3_1, b3_2, b4_1, b4_2], axis=-1)\n",
    "        print(net)\n",
    "        return net"
   ]
  },
  {
   "cell_type": "code",
   "execution_count": null,
   "metadata": {},
   "outputs": [],
   "source": [
    "def reduction_A(x, name=\"reduction_A\"):\n",
    "    # num of channels : 384 + 384 + 256 = 1024\n",
    "    with tf.variable_scope(name):\n",
    "        b1 = tf.layers.max_pooling2d(x, [3, 3], 2, padding='VALID')\n",
    "        b2 = conv_bn_activ(x, 384, [3, 3], 2, padding='VALID')\n",
    "        b3 = conv_bn_activ(x, 192, [1, 1])\n",
    "        b3 = conv_bn_activ(b3, 224, [3, 3])\n",
    "        b3 = conv_bn_activ(b3, 256, [3, 3], 2, padding='VALID')\n",
    "        net = tf.concat([b1, b2, b3], axis=-1) # 17x17x1024\n",
    "        print(net)\n",
    "        return net"
   ]
  },
  {
   "cell_type": "code",
   "execution_count": null,
   "metadata": {},
   "outputs": [],
   "source": [
    "def reduction_B(x, name=\"reduction_B\"):\n",
    "    # num of channes : 1024 + 192 + 320 = 1536\n",
    "    with tf.variable_scope(name):\n",
    "        b1 = tf.layers.max_pooling2d(x, [3, 3], 2, padding='VALID')\n",
    "        b2 = conv_bn_activ(x, 192, [1, 1])\n",
    "        b2 = conv_bn_activ(b2, 192, [3, 3], 2, padding='VALID')\n",
    "        b3 = conv_bn_activ(x, 256, [1, 1])\n",
    "        b3 = conv_bn_activ(b3, 256, [1, 7])\n",
    "        b3 = conv_bn_activ(b3, 320, [7, 1])\n",
    "        b3 = conv_bn_activ(b3, 320, [3, 3], 2, padding='VALID')\n",
    "        net = tf.concat([b1, b2, b3], axis=-1) # 8x8x1536\n",
    "        print(net)\n",
    "        return net"
   ]
  },
  {
   "cell_type": "code",
   "execution_count": null,
   "metadata": {},
   "outputs": [],
   "source": [
    "def build_inception_v4(X_img):\n",
    "    net = X_img\n",
    "    with tf.variable_scope(\"stem\"):\n",
    "        net = stem(net)\n",
    "    with tf.variable_scope(\"inception-A\"):\n",
    "        for i in range(4):\n",
    "            net = inception_A(net, name=\"inception_block_a{}\".format(i))\n",
    "    with tf.variable_scope(\"reduction-A\"):\n",
    "        net = reduction_A(net)\n",
    "    with tf.variable_scope(\"inception-B\"):\n",
    "        for i in range(7):\n",
    "            net = inception_B(net, name=\"inception_block_b{}\".format(i))\n",
    "    with tf.variable_scope(\"reduction-B\"):\n",
    "        net = reduction_B(net)\n",
    "    with tf.variable_scope(\"inception-C\"):\n",
    "        for i in range(3):\n",
    "            net = inception_C(net, name=\"inception_block_c{}\".format(i))\n",
    "    with tf.variable_scope(\"fc\"):\n",
    "        net = tf.layers.average_pooling2d(name=\"gap\", inputs=net, pool_size=[8, 8], \n",
    "                                          strides=8, padding='SAME')\n",
    "        print(net)\n",
    "        net = tf.reshape(net, [-1, 1536])\n",
    "        print(net)\n",
    "        net = tf.layers.dropout(net, rate=0.2, training=is_train, seed=seed)        \n",
    "        logits = tf.layers.dense(net, n_class, name=\"logits\", \n",
    "                              kernel_initializer=tf.contrib.layers.variance_scaling_initializer(seed=seed))\n",
    "        print(logits)\n",
    "    return logits"
   ]
  },
  {
   "cell_type": "code",
   "execution_count": null,
   "metadata": {
    "scrolled": false
   },
   "outputs": [],
   "source": [
    "hypothesis = build_inception_v4(vec_images)"
   ]
  },
  {
   "cell_type": "code",
   "execution_count": null,
   "metadata": {},
   "outputs": [],
   "source": [
    "cost = tf.reduce_mean(tf.nn.softmax_cross_entropy_with_logits_v2(\n",
    "    logits=hypothesis, labels=onehot_labels))\n",
    "global_step = tf.Variable(0, trainable=False)\n",
    "lr_decay = tf.train.exponential_decay(learning_rate=learning_rate,\n",
    "                                          global_step= global_step,\n",
    "                                          decay_steps=int(train_images.shape[0]/batch_size*lr_decay_epoch_num),\n",
    "                                          decay_rate= 0.1,\n",
    "                                          staircase=True)\n",
    "update_ops = tf.get_collection(tf.GraphKeys.UPDATE_OPS)\n",
    "with tf.control_dependencies(update_ops):\n",
    "    optimizer = tf.train.AdamOptimizer(learning_rate=lr_decay).minimize(\n",
    "       cost, global_step=global_step)\n",
    "#optimizer = tf.train.AdamOptimizer(learning_rate=lr_decay).minimize(cost, global_step=global_step)"
   ]
  },
  {
   "cell_type": "code",
   "execution_count": null,
   "metadata": {},
   "outputs": [],
   "source": [
    "correct_prediction = tf.equal(tf.argmax(hypothesis, 1), tf.argmax(onehot_labels, 1))\n",
    "accuracy = tf.reduce_mean(tf.cast(correct_prediction, tf.float32))"
   ]
  },
  {
   "cell_type": "code",
   "execution_count": null,
   "metadata": {},
   "outputs": [],
   "source": [
    "sess = tf.Session(config=tf.ConfigProto(gpu_options=tf.GPUOptions(allow_growth =True)))\n",
    "sess.run(tf.global_variables_initializer())"
   ]
  },
  {
   "cell_type": "code",
   "execution_count": null,
   "metadata": {
    "scrolled": false
   },
   "outputs": [],
   "source": [
    "# train my model\n",
    "print('Learning started. It takes sometime.')\n",
    "max_test_acc = 0.\n",
    "for epoch in range(training_epochs):\n",
    "    avg_cost = 0.\n",
    "    avg_train_acc = 0.\n",
    "    avg_test_acc = 0.\n",
    "    \n",
    "    total_batch = int(train_images.shape[0] / batch_size)\n",
    "    total_batch_test = int(test_images.shape[0] / batch_size)\n",
    "    \n",
    "    sess.run(train_init)\n",
    "    for i in range(total_batch):\n",
    "        acc, c, _ = sess.run([accuracy, cost, optimizer], feed_dict={is_train: True})\n",
    "        avg_cost += c / total_batch\n",
    "        avg_train_acc += acc / total_batch\n",
    "        \n",
    "    sess.run(test_init)        \n",
    "    for i in range(total_batch_test):\n",
    "        acc = sess.run(accuracy, feed_dict={is_train: False})\n",
    "        avg_test_acc += acc / total_batch_test\n",
    "\n",
    "    print('Epoch:', '{}'.format(epoch + 1), 'cost =', '{:.8f}'.format(avg_cost), \n",
    "          'train accuracy = ', '{:.4f}'.format(avg_train_acc), \n",
    "          'test accuracy = ', '{:.4f}'.format(avg_test_acc))\n",
    "\n",
    "\n",
    "print('Learning Finished!')"
   ]
  },
  {
   "cell_type": "code",
   "execution_count": null,
   "metadata": {},
   "outputs": [],
   "source": [
    "def plot_image(i, predictions_array, true_label, img):\n",
    "    predictions_array, true_label, img = predictions_array[i], true_label[i], img[i]\n",
    "    plt.grid(False)\n",
    "    plt.xticks([])\n",
    "    plt.yticks([])\n",
    "\n",
    "    plt.imshow(img, cmap=plt.cm.binary)\n",
    "\n",
    "    predicted_label = np.argmax(predictions_array)\n",
    "    if predicted_label == true_label:\n",
    "        color = 'blue'\n",
    "    else:\n",
    "        color = 'red'\n",
    "\n",
    "    plt.xlabel(\"{} {:2.0f}% ({})\".format(class_names[predicted_label],\n",
    "                                100*np.max(predictions_array),\n",
    "                                class_names[true_label]),\n",
    "                                color=color)\n",
    "\n",
    "def plot_value_array(i, predictions_array, true_label):\n",
    "    predictions_array, true_label = predictions_array[i], true_label[i]\n",
    "    plt.grid(False)\n",
    "    #plt.xticks([])\n",
    "    plt.xticks(range(10), class_names, rotation=90)\n",
    "    plt.yticks([])\n",
    "    thisplot = plt.bar(range(10), predictions_array, color=\"#777777\")\n",
    "    plt.ylim([0, 1]) \n",
    "    predicted_label = np.argmax(predictions_array)\n",
    " \n",
    "    thisplot[predicted_label].set_color('red')\n",
    "    thisplot[true_label].set_color('blue')"
   ]
  },
  {
   "cell_type": "code",
   "execution_count": null,
   "metadata": {
    "scrolled": false
   },
   "outputs": [],
   "source": [
    "prob = tf.nn.softmax(hypothesis)\n",
    "#sess.run(test_init)\n",
    "imgs, lbs, x, y = sess.run([images, labels, vec_images, onehot_labels])\n",
    "predictions = sess.run(prob, feed_dict={vec_images:x, onehot_labels:y, is_train:False})\n",
    "num_rows = 5\n",
    "num_cols = 3\n",
    "num_images = num_rows*num_cols\n",
    "plt.figure(figsize=(3*2*num_cols, 3*num_rows))\n",
    "for i in range(num_images):\n",
    "    plt.subplot(num_rows, 2*num_cols, 2*i+1)\n",
    "    plot_image(i, predictions, lbs, imgs)\n",
    "    plt.subplot(num_rows, 2*num_cols, 2*i+2)\n",
    "    plot_value_array(i, predictions, lbs)"
   ]
  },
  {
   "cell_type": "code",
   "execution_count": null,
   "metadata": {},
   "outputs": [],
   "source": []
  }
 ],
 "metadata": {
  "kernelspec": {
   "display_name": "Python 3",
   "language": "python",
   "name": "python3"
  },
  "language_info": {
   "codemirror_mode": {
    "name": "ipython",
    "version": 3
   },
   "file_extension": ".py",
   "mimetype": "text/x-python",
   "name": "python",
   "nbconvert_exporter": "python",
   "pygments_lexer": "ipython3",
   "version": "3.5.5"
  }
 },
 "nbformat": 4,
 "nbformat_minor": 2
}
