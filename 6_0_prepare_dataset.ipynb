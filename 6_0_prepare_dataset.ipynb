{
 "cells": [
  {
   "cell_type": "code",
   "execution_count": 2,
   "metadata": {
    "colab": {
     "base_uri": "https://localhost:8080/",
     "height": 37
    },
    "colab_type": "code",
    "id": "91L-1unwSG4f",
    "outputId": "d37b2910-0d9b-4f6a-bc28-35822e99da51"
   },
   "outputs": [
    {
     "name": "stdout",
     "output_type": "stream",
     "text": [
      "caltech101.zip  \u001b[0m\u001b[01;34msample_data\u001b[0m/\n"
     ]
    }
   ],
   "source": [
    "ls"
   ]
  },
  {
   "cell_type": "code",
   "execution_count": 7,
   "metadata": {
    "colab": {
     "base_uri": "https://localhost:8080/",
     "height": 56
    },
    "colab_type": "code",
    "id": "CuEhVS3LWvfF",
    "outputId": "deb64227-d382-427f-9de2-dd7da6c42f63"
   },
   "outputs": [
    {
     "name": "stdout",
     "output_type": "stream",
     "text": [
      "Archive:  caltech101.zip\n",
      "replace caltech101/yin_yang/image_0001.jpg? [y]es, [n]o, [A]ll, [N]one, [r]ename: "
     ]
    }
   ],
   "source": [
    "!unzip korean_food_10.zip -d ./korean_food_10"
   ]
  },
  {
   "cell_type": "code",
   "execution_count": 8,
   "metadata": {
    "colab": {
     "base_uri": "https://localhost:8080/",
     "height": 37
    },
    "colab_type": "code",
    "id": "pnztB86HWzEN",
    "outputId": "b01d5534-5bca-4c1e-c6bf-8fe3caf0abfa"
   },
   "outputs": [
    {
     "name": "stdout",
     "output_type": "stream",
     "text": [
      "\u001b[0m\u001b[01;34mcaltech101\u001b[0m/  caltech101.zip  \u001b[01;34msample_data\u001b[0m/  \u001b[01;34mtemp\u001b[0m/\n"
     ]
    }
   ],
   "source": [
    "ls"
   ]
  },
  {
   "cell_type": "code",
   "execution_count": 9,
   "metadata": {
    "colab": {
     "base_uri": "https://localhost:8080/",
     "height": 423
    },
    "colab_type": "code",
    "id": "piAmI_dsW3El",
    "outputId": "a4803799-86f6-4c45-a588-d1dd6da335fc"
   },
   "outputs": [
    {
     "name": "stdout",
     "output_type": "stream",
     "text": [
      "\u001b[0m\u001b[01;34maccordion\u001b[0m/     \u001b[01;34mcougar_face\u001b[0m/      \u001b[01;34mgerenuk\u001b[0m/       \u001b[01;34mmetronome\u001b[0m/   \u001b[01;34msoccer_ball\u001b[0m/\n",
      "\u001b[01;34mairplanes\u001b[0m/     \u001b[01;34mcrab\u001b[0m/             \u001b[01;34mgramophone\u001b[0m/    \u001b[01;34mminaret\u001b[0m/     \u001b[01;34mstapler\u001b[0m/\n",
      "\u001b[01;34manchor\u001b[0m/        \u001b[01;34mcrayfish\u001b[0m/         \u001b[01;34mgrand_piano\u001b[0m/   \u001b[01;34mMotorbikes\u001b[0m/  \u001b[01;34mstarfish\u001b[0m/\n",
      "\u001b[01;34mant\u001b[0m/           \u001b[01;34mcrocodile\u001b[0m/        \u001b[01;34mhawksbill\u001b[0m/     \u001b[01;34mnautilus\u001b[0m/    \u001b[01;34mstegosaurus\u001b[0m/\n",
      "\u001b[01;34mbarrel\u001b[0m/        \u001b[01;34mcrocodile_head\u001b[0m/   \u001b[01;34mheadphone\u001b[0m/     \u001b[01;34moctopus\u001b[0m/     \u001b[01;34mstop_sign\u001b[0m/\n",
      "\u001b[01;34mbass\u001b[0m/          \u001b[01;34mcup\u001b[0m/              \u001b[01;34mhedgehog\u001b[0m/      \u001b[01;34mokapi\u001b[0m/       \u001b[01;34mstrawberry\u001b[0m/\n",
      "\u001b[01;34mbeaver\u001b[0m/        \u001b[01;34mdalmatian\u001b[0m/        \u001b[01;34mhelicopter\u001b[0m/    \u001b[01;34mpagoda\u001b[0m/      \u001b[01;34msunflower\u001b[0m/\n",
      "\u001b[01;34mbinocular\u001b[0m/     \u001b[01;34mdollar_bill\u001b[0m/      \u001b[01;34mibis\u001b[0m/          \u001b[01;34mpanda\u001b[0m/       \u001b[01;34mtick\u001b[0m/\n",
      "\u001b[01;34mbonsai\u001b[0m/        \u001b[01;34mdolphin\u001b[0m/          \u001b[01;34minline_skate\u001b[0m/  \u001b[01;34mpigeon\u001b[0m/      \u001b[01;34mtrilobite\u001b[0m/\n",
      "\u001b[01;34mbrain\u001b[0m/         \u001b[01;34mdragonfly\u001b[0m/        \u001b[01;34mjoshua_tree\u001b[0m/   \u001b[01;34mpizza\u001b[0m/       \u001b[01;34mumbrella\u001b[0m/\n",
      "\u001b[01;34mbrontosaurus\u001b[0m/  \u001b[01;34melectric_guitar\u001b[0m/  \u001b[01;34mkangaroo\u001b[0m/      \u001b[01;34mplatypus\u001b[0m/    \u001b[01;34mwatch\u001b[0m/\n",
      "\u001b[01;34mbuddha\u001b[0m/        \u001b[01;34melephant\u001b[0m/         \u001b[01;34mketch\u001b[0m/         \u001b[01;34mpyramid\u001b[0m/     \u001b[01;34mwater_lilly\u001b[0m/\n",
      "\u001b[01;34mbutterfly\u001b[0m/     \u001b[01;34memu\u001b[0m/              \u001b[01;34mlamp\u001b[0m/          \u001b[01;34mrevolver\u001b[0m/    \u001b[01;34mwheelchair\u001b[0m/\n",
      "\u001b[01;34mcamera\u001b[0m/        \u001b[01;34meuphonium\u001b[0m/        \u001b[01;34mlaptop\u001b[0m/        \u001b[01;34mrhino\u001b[0m/       \u001b[01;34mwild_cat\u001b[0m/\n",
      "\u001b[01;34mcannon\u001b[0m/        \u001b[01;34mewer\u001b[0m/             \u001b[01;34mLeopards\u001b[0m/      \u001b[01;34mrooster\u001b[0m/     \u001b[01;34mwindsor_chair\u001b[0m/\n",
      "\u001b[01;34mcar_side\u001b[0m/      \u001b[01;34mFaces\u001b[0m/            \u001b[01;34mllama\u001b[0m/         \u001b[01;34msaxophone\u001b[0m/   \u001b[01;34mwrench\u001b[0m/\n",
      "\u001b[01;34mceiling_fan\u001b[0m/   \u001b[01;34mFaces_easy\u001b[0m/       \u001b[01;34mlobster\u001b[0m/       \u001b[01;34mschooner\u001b[0m/    \u001b[01;34myin_yang\u001b[0m/\n",
      "\u001b[01;34mcellphone\u001b[0m/     \u001b[01;34mferry\u001b[0m/            \u001b[01;34mlotus\u001b[0m/         \u001b[01;34mscissors\u001b[0m/\n",
      "\u001b[01;34mchair\u001b[0m/         \u001b[01;34mflamingo\u001b[0m/         \u001b[01;34mmandolin\u001b[0m/      \u001b[01;34mscorpion\u001b[0m/\n",
      "\u001b[01;34mchandelier\u001b[0m/    \u001b[01;34mflamingo_head\u001b[0m/    \u001b[01;34mmayfly\u001b[0m/        \u001b[01;34msea_horse\u001b[0m/\n",
      "\u001b[01;34mcougar_body\u001b[0m/   \u001b[01;34mgarfield\u001b[0m/         \u001b[01;34mmenorah\u001b[0m/       \u001b[01;34msnoopy\u001b[0m/\n"
     ]
    }
   ],
   "source": [
    "ls korean_food_10"
   ]
  },
  {
   "cell_type": "code",
   "execution_count": 0,
   "metadata": {
    "colab": {},
    "colab_type": "code",
    "id": "4b0ls8ZHW4Pd"
   },
   "outputs": [],
   "source": []
  }
 ],
 "metadata": {
  "accelerator": "GPU",
  "colab": {
   "name": "6_0.dataset_upload.ipynb",
   "provenance": [],
   "version": "0.3.2"
  },
  "kernelspec": {
   "display_name": "Python 3",
   "language": "python",
   "name": "python3"
  },
  "language_info": {
   "codemirror_mode": {
    "name": "ipython",
    "version": 3
   },
   "file_extension": ".py",
   "mimetype": "text/x-python",
   "name": "python",
   "nbconvert_exporter": "python",
   "pygments_lexer": "ipython3",
   "version": "3.5.5"
  }
 },
 "nbformat": 4,
 "nbformat_minor": 1
}
