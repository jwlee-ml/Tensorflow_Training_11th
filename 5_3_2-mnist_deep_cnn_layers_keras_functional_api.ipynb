{
 "cells": [
  {
   "cell_type": "code",
   "execution_count": 1,
   "metadata": {},
   "outputs": [
    {
     "name": "stdout",
     "output_type": "stream",
     "text": [
      "1.12.0\n"
     ]
    }
   ],
   "source": [
    "import tensorflow as tf\n",
    "from tensorflow import keras\n",
    "import numpy as np\n",
    "import matplotlib.pyplot as plt\n",
    "\n",
    "print(tf.__version__)\n",
    "\n",
    "tf.set_random_seed(777)"
   ]
  },
  {
   "cell_type": "code",
   "execution_count": 2,
   "metadata": {},
   "outputs": [],
   "source": [
    "learning_rate = 0.001\n",
    "training_epochs = 20\n",
    "batch_size = 100"
   ]
  },
  {
   "cell_type": "code",
   "execution_count": 3,
   "metadata": {},
   "outputs": [],
   "source": [
    "mnist = keras.datasets.mnist\n",
    "class_names = ['0', '1', '2', '3', '4', '5', '6', '7', '8', '9']\n",
    "#mnist = keras.datasets.fashion_mnist\n",
    "#class_names = ['T-shirt/top', 'Trouser', 'Pullover', 'Dress', 'Coat', 'Sandal', 'Shirt', 'Sneaker', 'Bag', 'Ankle boot']"
   ]
  },
  {
   "cell_type": "code",
   "execution_count": 4,
   "metadata": {},
   "outputs": [],
   "source": [
    "(train_images, train_labels), (test_images, test_labels) = mnist.load_data()"
   ]
  },
  {
   "cell_type": "code",
   "execution_count": 5,
   "metadata": {},
   "outputs": [],
   "source": [
    "train_images, test_images = train_images/255., test_images/255."
   ]
  },
  {
   "cell_type": "code",
   "execution_count": 6,
   "metadata": {},
   "outputs": [],
   "source": [
    "train_images = np.reshape(train_images, (train_images.shape[0], train_images.shape[1], train_images.shape[2], 1))\n",
    "test_images = np.reshape(test_images, (test_images.shape[0], test_images.shape[1], test_images.shape[2], 1))"
   ]
  },
  {
   "cell_type": "code",
   "execution_count": 8,
   "metadata": {},
   "outputs": [],
   "source": [
    "img_input = keras.Input(shape=(28, 28, 1))\n",
    "L1 = keras.layers.Conv2D(filters=32, kernel_size=[3, 3], padding='SAME', activation=tf.nn.relu)(img_input)\n",
    "L1 = keras.layers.MaxPool2D(pool_size=[2, 2], padding='SAME', strides=2)(L1)\n",
    "L2 = keras.layers.Conv2D(filters=64, kernel_size=[3, 3], padding='SAME', activation=tf.nn.relu)(L1)\n",
    "L2 = keras.layers.MaxPool2D(pool_size=[2, 2], padding='SAME', strides=2)(L2)\n",
    "L3 = keras.layers.Conv2D(filters=128, kernel_size=[3, 3], padding='SAME', activation=tf.nn.relu)(L2)\n",
    "L3 = keras.layers.MaxPool2D(pool_size=[2, 2], padding='SAME', strides=2)(L2)\n",
    "L3_flat = keras.layers.Flatten()(L3)\n",
    "L4 = keras.layers.Dense(units=256, activation=tf.nn.relu)(L3_flat)\n",
    "L4 = keras.layers.Dropout(rate=0.4)(L4)\n",
    "hypothesis = keras.layers.Dense(units=10, activation=tf.nn.softmax)(L4)"
   ]
  },
  {
   "cell_type": "code",
   "execution_count": 9,
   "metadata": {},
   "outputs": [],
   "source": [
    "model = keras.Model(inputs=img_input, outputs=hypothesis)"
   ]
  },
  {
   "cell_type": "code",
   "execution_count": 10,
   "metadata": {},
   "outputs": [],
   "source": [
    "model.compile(optimizer=tf.train.AdamOptimizer(learning_rate=learning_rate),\n",
    "             loss=keras.losses.sparse_categorical_crossentropy,\n",
    "             metrics=['accuracy'])"
   ]
  },
  {
   "cell_type": "code",
   "execution_count": 11,
   "metadata": {
    "scrolled": false
   },
   "outputs": [
    {
     "name": "stdout",
     "output_type": "stream",
     "text": [
      "Train on 60000 samples, validate on 10000 samples\n",
      "Epoch 1/20\n",
      "60000/60000 [==============================] - 4s 74us/step - loss: 0.2659 - acc: 0.9159 - val_loss: 0.0614 - val_acc: 0.9822\n",
      "Epoch 2/20\n",
      "60000/60000 [==============================] - 2s 35us/step - loss: 0.0754 - acc: 0.9765 - val_loss: 0.0411 - val_acc: 0.9874\n",
      "Epoch 3/20\n",
      "60000/60000 [==============================] - 2s 34us/step - loss: 0.0551 - acc: 0.9828 - val_loss: 0.0337 - val_acc: 0.9875\n",
      "Epoch 4/20\n",
      "60000/60000 [==============================] - 2s 34us/step - loss: 0.0433 - acc: 0.9861 - val_loss: 0.0326 - val_acc: 0.9892\n",
      "Epoch 5/20\n",
      "60000/60000 [==============================] - 2s 35us/step - loss: 0.0372 - acc: 0.9885 - val_loss: 0.0268 - val_acc: 0.9908\n",
      "Epoch 6/20\n",
      "60000/60000 [==============================] - 2s 35us/step - loss: 0.0316 - acc: 0.9899 - val_loss: 0.0235 - val_acc: 0.9920\n",
      "Epoch 7/20\n",
      "60000/60000 [==============================] - 2s 35us/step - loss: 0.0266 - acc: 0.9912 - val_loss: 0.0291 - val_acc: 0.9897\n",
      "Epoch 8/20\n",
      "60000/60000 [==============================] - 2s 35us/step - loss: 0.0241 - acc: 0.9920 - val_loss: 0.0267 - val_acc: 0.9917\n",
      "Epoch 9/20\n",
      "60000/60000 [==============================] - 2s 34us/step - loss: 0.0215 - acc: 0.9931 - val_loss: 0.0287 - val_acc: 0.9900\n",
      "Epoch 10/20\n",
      "60000/60000 [==============================] - 2s 35us/step - loss: 0.0190 - acc: 0.9937 - val_loss: 0.0286 - val_acc: 0.9907\n",
      "Epoch 11/20\n",
      "60000/60000 [==============================] - 2s 34us/step - loss: 0.0174 - acc: 0.9938 - val_loss: 0.0342 - val_acc: 0.9899\n",
      "Epoch 12/20\n",
      "60000/60000 [==============================] - 2s 34us/step - loss: 0.0166 - acc: 0.9945 - val_loss: 0.0233 - val_acc: 0.9923\n",
      "Epoch 13/20\n",
      "60000/60000 [==============================] - 2s 34us/step - loss: 0.0142 - acc: 0.9954 - val_loss: 0.0245 - val_acc: 0.9925\n",
      "Epoch 14/20\n",
      "60000/60000 [==============================] - 2s 34us/step - loss: 0.0120 - acc: 0.9961 - val_loss: 0.0247 - val_acc: 0.9921\n",
      "Epoch 15/20\n",
      "60000/60000 [==============================] - 2s 35us/step - loss: 0.0120 - acc: 0.9961 - val_loss: 0.0256 - val_acc: 0.9924\n",
      "Epoch 16/20\n",
      "60000/60000 [==============================] - 2s 35us/step - loss: 0.0114 - acc: 0.9958 - val_loss: 0.0271 - val_acc: 0.9928\n",
      "Epoch 17/20\n",
      "60000/60000 [==============================] - 2s 35us/step - loss: 0.0102 - acc: 0.9965 - val_loss: 0.0310 - val_acc: 0.9919\n",
      "Epoch 18/20\n",
      "60000/60000 [==============================] - 2s 34us/step - loss: 0.0101 - acc: 0.9967 - val_loss: 0.0287 - val_acc: 0.9920\n",
      "Epoch 19/20\n",
      "60000/60000 [==============================] - 2s 35us/step - loss: 0.0087 - acc: 0.9972 - val_loss: 0.0310 - val_acc: 0.9929\n",
      "Epoch 20/20\n",
      "60000/60000 [==============================] - 2s 34us/step - loss: 0.0081 - acc: 0.9974 - val_loss: 0.0289 - val_acc: 0.9922\n"
     ]
    },
    {
     "data": {
      "text/plain": [
       "<tensorflow.python.keras.callbacks.History at 0x1e2cc24a400>"
      ]
     },
     "execution_count": 11,
     "metadata": {},
     "output_type": "execute_result"
    }
   ],
   "source": [
    "model.fit(train_images, train_labels, batch_size=batch_size, epochs=training_epochs, \n",
    "          validation_data=(test_images, test_labels))"
   ]
  },
  {
   "cell_type": "code",
   "execution_count": 12,
   "metadata": {},
   "outputs": [
    {
     "name": "stdout",
     "output_type": "stream",
     "text": [
      "_________________________________________________________________\n",
      "Layer (type)                 Output Shape              Param #   \n",
      "=================================================================\n",
      "input_1 (InputLayer)         (None, 28, 28, 1)         0         \n",
      "_________________________________________________________________\n",
      "conv2d (Conv2D)              (None, 28, 28, 32)        320       \n",
      "_________________________________________________________________\n",
      "max_pooling2d (MaxPooling2D) (None, 14, 14, 32)        0         \n",
      "_________________________________________________________________\n",
      "conv2d_1 (Conv2D)            (None, 14, 14, 64)        18496     \n",
      "_________________________________________________________________\n",
      "max_pooling2d_1 (MaxPooling2 (None, 7, 7, 64)          0         \n",
      "_________________________________________________________________\n",
      "max_pooling2d_2 (MaxPooling2 (None, 4, 4, 64)          0         \n",
      "_________________________________________________________________\n",
      "flatten (Flatten)            (None, 1024)              0         \n",
      "_________________________________________________________________\n",
      "dense (Dense)                (None, 256)               262400    \n",
      "_________________________________________________________________\n",
      "dropout (Dropout)            (None, 256)               0         \n",
      "_________________________________________________________________\n",
      "dense_1 (Dense)              (None, 10)                2570      \n",
      "=================================================================\n",
      "Total params: 283,786\n",
      "Trainable params: 283,786\n",
      "Non-trainable params: 0\n",
      "_________________________________________________________________\n"
     ]
    }
   ],
   "source": [
    "model.summary()"
   ]
  },
  {
   "cell_type": "code",
   "execution_count": 13,
   "metadata": {},
   "outputs": [
    {
     "name": "stdout",
     "output_type": "stream",
     "text": [
      "10000/10000 [==============================] - 0s 36us/step\n"
     ]
    },
    {
     "data": {
      "text/plain": [
       "[0.028945708405433108, 0.9922]"
      ]
     },
     "execution_count": 13,
     "metadata": {},
     "output_type": "execute_result"
    }
   ],
   "source": [
    "model.evaluate(test_images, test_labels)"
   ]
  },
  {
   "cell_type": "code",
   "execution_count": 14,
   "metadata": {},
   "outputs": [],
   "source": [
    "predictions = model.predict(test_images)"
   ]
  },
  {
   "cell_type": "code",
   "execution_count": 15,
   "metadata": {},
   "outputs": [],
   "source": [
    "def plot_image(i, predictions_array, true_label, img):\n",
    "    predictions_array, true_label, img = predictions_array[i], true_label[i], img[i]\n",
    "    plt.grid(False)\n",
    "    plt.xticks([])\n",
    "    plt.yticks([])\n",
    "    img = np.reshape(img, (28, 28))\n",
    "\n",
    "    plt.imshow(img, cmap=plt.cm.binary)\n",
    "\n",
    "    predicted_label = np.argmax(predictions_array)\n",
    "    if predicted_label == true_label:\n",
    "        color = 'blue'\n",
    "    else:\n",
    "        color = 'red'\n",
    "\n",
    "    plt.xlabel(\"{} {:2.0f}% ({})\".format(class_names[predicted_label],\n",
    "                                100*np.max(predictions_array),\n",
    "                                class_names[true_label]),\n",
    "                                color=color)\n",
    "\n",
    "def plot_value_array(i, predictions_array, true_label):\n",
    "    predictions_array, true_label = predictions_array[i], true_label[i]\n",
    "    plt.grid(False)\n",
    "    #plt.xticks([])\n",
    "    plt.xticks(range(10), class_names, rotation=90)\n",
    "    plt.yticks([])\n",
    "    thisplot = plt.bar(range(10), predictions_array, color=\"#777777\")\n",
    "    plt.ylim([0, 1]) \n",
    "    predicted_label = np.argmax(predictions_array)\n",
    " \n",
    "    thisplot[predicted_label].set_color('red')\n",
    "    thisplot[true_label].set_color('blue')"
   ]
  },
  {
   "cell_type": "code",
   "execution_count": 16,
   "metadata": {
    "scrolled": false
   },
   "outputs": [
    {
     "data": {
      "image/png": "[encoded data removed]",
      "text/plain": [
       "<Figure size 1296x1080 with 30 Axes>"
      ]
     },
     "metadata": {},
     "output_type": "display_data"
    }
   ],
   "source": [
    "# Plot the first X test images, their predicted label, and the true label\n",
    "# Color correct predictions in blue, incorrect predictions in red\n",
    "num_rows = 5\n",
    "num_cols = 3\n",
    "num_images = num_rows*num_cols\n",
    "plt.figure(figsize=(3*2*num_cols, 3*num_rows))\n",
    "for i in range(num_images):\n",
    "    plt.subplot(num_rows, 2*num_cols, 2*i+1)\n",
    "    plot_image(i, predictions, test_labels, test_images)\n",
    "    plt.subplot(num_rows, 2*num_cols, 2*i+2)\n",
    "    plot_value_array(i, predictions, test_labels)"
   ]
  },
  {
   "cell_type": "code",
   "execution_count": null,
   "metadata": {},
   "outputs": [],
   "source": []
  }
 ],
 "metadata": {
  "kernelspec": {
   "display_name": "Python 3",
   "language": "python",
   "name": "python3"
  },
  "language_info": {
   "codemirror_mode": {
    "name": "ipython",
    "version": 3
   },
   "file_extension": ".py",
   "mimetype": "text/x-python",
   "name": "python",
   "nbconvert_exporter": "python",
   "pygments_lexer": "ipython3",
   "version": "3.5.5"
  }
 },
 "nbformat": 4,
 "nbformat_minor": 2
}
