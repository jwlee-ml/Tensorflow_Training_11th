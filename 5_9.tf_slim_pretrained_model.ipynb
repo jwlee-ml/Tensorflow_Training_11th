{
 "cells": [
  {
   "cell_type": "code",
   "execution_count": null,
   "metadata": {},
   "outputs": [],
   "source": [
    "import numpy as np\n",
    "import matplotlib.pyplot as plt\n",
    "import tensorflow as tf\n",
    "from tensorflow import keras\n",
    "from tensorflow.contrib import slim\n",
    "import os\n",
    "import tarfile\n",
    "from six.moves import urllib"
   ]
  },
  {
   "cell_type": "code",
   "execution_count": null,
   "metadata": {},
   "outputs": [],
   "source": [
    "from tensorflow.contrib.slim.nets import vgg"
   ]
  },
  {
   "cell_type": "markdown",
   "metadata": {},
   "source": [
    "## Imagenet index to label name"
   ]
  },
  {
   "cell_type": "code",
   "execution_count": null,
   "metadata": {},
   "outputs": [],
   "source": [
    "def create_readable_names_for_imagenet_labels():\n",
    "    \"\"\"Create a dict mapping label id to human readable string.\n",
    "    Returns:\n",
    "    labels_to_names: dictionary where keys are integers from to 1000\n",
    "    and values are human-readable names.\n",
    "    We retrieve a synset file, which contains a list of valid synset labels used\n",
    "    by ILSVRC competition. There is one synset one per line, eg.\n",
    "    #   n01440764\n",
    "    #   n01443537\n",
    "    We also retrieve a synset_to_human_file, which contains a mapping from synsets\n",
    "    to human-readable names for every synset in Imagenet. These are stored in a\n",
    "    tsv format, as follows:\n",
    "    #   n02119247    black fox\n",
    "    #   n02119359    silver fox\n",
    "    We assign each synset (in alphabetical order) an integer, starting from 1\n",
    "    (since 0 is reserved for the background class).\n",
    "    Code is based on\n",
    "    https://github.com/tensorflow/models/blob/master/research/inception/inception/data/build_imagenet_data.py#L463\n",
    "    \"\"\"\n",
    "\n",
    "    # pylint: disable=g-line-too-long\n",
    "    base_url = 'https://raw.githubusercontent.com/tensorflow/models/master/research/inception/inception/data/'\n",
    "    synset_url = '{}/imagenet_lsvrc_2015_synsets.txt'.format(base_url)\n",
    "    synset_to_human_url = '{}/imagenet_metadata.txt'.format(base_url)\n",
    "\n",
    "    filename, _ = urllib.request.urlretrieve(synset_url)\n",
    "    synset_list = [s.strip() for s in open(filename).readlines()]\n",
    "    num_synsets_in_ilsvrc = len(synset_list)\n",
    "    assert num_synsets_in_ilsvrc == 1000\n",
    "\n",
    "    filename, _ = urllib.request.urlretrieve(synset_to_human_url)\n",
    "    synset_to_human_list = open(filename).readlines()\n",
    "    num_synsets_in_all_imagenet = len(synset_to_human_list)\n",
    "    assert num_synsets_in_all_imagenet == 21842\n",
    "\n",
    "    synset_to_human = {}\n",
    "    for s in synset_to_human_list:\n",
    "        parts = s.strip().split('\\t')\n",
    "        assert len(parts) == 2\n",
    "        synset = parts[0]\n",
    "        human = parts[1]\n",
    "        synset_to_human[synset] = human\n",
    "\n",
    "    label_index = 1\n",
    "    labels_to_names = {0: 'background'}\n",
    "    for synset in synset_list:\n",
    "        name = synset_to_human[synset]\n",
    "        labels_to_names[label_index] = name\n",
    "        label_index += 1\n",
    "\n",
    "    return labels_to_names"
   ]
  },
  {
   "cell_type": "markdown",
   "metadata": {},
   "source": [
    "## Download Pretrained Model's Checkpoint"
   ]
  },
  {
   "cell_type": "code",
   "execution_count": null,
   "metadata": {},
   "outputs": [],
   "source": [
    "ckpt_dir = \"ckpt\"\n",
    "if not os.path.exists(ckpt_dir):\n",
    "    os.makedirs(ckpt_dir)"
   ]
  },
  {
   "cell_type": "code",
   "execution_count": null,
   "metadata": {},
   "outputs": [],
   "source": [
    "ckpt_url = \"http://download.tensorflow.org/models/vgg_16_2016_08_28.tar.gz\"\n",
    "zpath = os.path.join(ckpt_dir, \"vgg_16_2016_08_28.tar.gz\")\n",
    "if not os.path.exists(zpath):\n",
    "    print (\"Downloading %s ...\" % (zpath))\n",
    "    urllib.request.urlretrieve(ckpt_url, zpath)\n",
    "    print (\"Done!\")\n",
    "else:\n",
    "    print (\"%s Already Exists\" % (zpath))"
   ]
  },
  {
   "cell_type": "markdown",
   "metadata": {},
   "source": [
    "## Unzip Checkpoint"
   ]
  },
  {
   "cell_type": "code",
   "execution_count": null,
   "metadata": {},
   "outputs": [],
   "source": [
    "cpath = os.path.join(ckpt_dir, \"vgg_16_2016_08_28\")\n",
    "if not os.path.exists(cpath):\n",
    "    print (\"Extracting %s ...\" % (cpath))\n",
    "    tar = tarfile.open(zpath, \"r:gz\")\n",
    "    tar.extractall(path=cpath)\n",
    "    tar.close()\n",
    "    print (\"Done!\")\n",
    "else:\n",
    "    print (\"%s Already Exists\" % (cpath))"
   ]
  },
  {
   "cell_type": "markdown",
   "metadata": {},
   "source": [
    "## Model"
   ]
  },
  {
   "cell_type": "code",
   "execution_count": null,
   "metadata": {},
   "outputs": [],
   "source": [
    "x = tf.placeholder(shape=[None, 224, 224, 3], dtype=tf.float32)\n",
    "\n",
    "with slim.arg_scope(vgg.vgg_arg_scope()):\n",
    "    mean = tf.constant([123.68, 116.78, 103.94], dtype=tf.float32, shape=[1,1,1,3])\n",
    "    im_centered = x - mean\n",
    "    logits, end_points = vgg.vgg_16(inputs=im_centered, num_classes=1000)\n",
    "    preds = tf.nn.softmax(logits, axis=-1)"
   ]
  },
  {
   "cell_type": "markdown",
   "metadata": {},
   "source": [
    "## Restore"
   ]
  },
  {
   "cell_type": "code",
   "execution_count": null,
   "metadata": {},
   "outputs": [],
   "source": [
    "sess = tf.Session(config=tf.ConfigProto(gpu_options=tf.GPUOptions(allow_growth =True)))"
   ]
  },
  {
   "cell_type": "code",
   "execution_count": null,
   "metadata": {},
   "outputs": [],
   "source": [
    "ckpt_name = \"vgg_16.ckpt\"\n",
    "ckpt_path = os.path.join(cpath, ckpt_name)\n",
    "\n",
    "variables_to_restore = slim.get_variables_to_restore()\n",
    "saver = tf.train.Saver(variables_to_restore)\n",
    "\n",
    "saver.restore(sess, ckpt_path)"
   ]
  },
  {
   "cell_type": "markdown",
   "metadata": {},
   "source": [
    "## Inference - Single Image"
   ]
  },
  {
   "cell_type": "code",
   "execution_count": null,
   "metadata": {},
   "outputs": [],
   "source": [
    "from PIL import Image\n",
    "\n",
    "currimg = Image.open(\"data/boat.jpg\")\n",
    "#currimg = Image.open(\"data/dog.jpg\")\n",
    "currimg = currimg.resize((224, 224))\n",
    "image = np.asarray(currimg)\n",
    "image = np.reshape(image, (-1, 224, 224, 3))\n",
    "image.shape"
   ]
  },
  {
   "cell_type": "code",
   "execution_count": null,
   "metadata": {},
   "outputs": [],
   "source": [
    "plt.imshow(image[0])\n",
    "plt.show()"
   ]
  },
  {
   "cell_type": "code",
   "execution_count": null,
   "metadata": {},
   "outputs": [],
   "source": [
    "predict = sess.run(preds, feed_dict={x:image})\n",
    "predict.shape"
   ]
  },
  {
   "cell_type": "code",
   "execution_count": null,
   "metadata": {},
   "outputs": [],
   "source": [
    "pred_class = np.argmax(predict, axis=-1)\n",
    "pred_class"
   ]
  },
  {
   "cell_type": "code",
   "execution_count": null,
   "metadata": {},
   "outputs": [],
   "source": [
    "index = int(pred_class)"
   ]
  },
  {
   "cell_type": "code",
   "execution_count": null,
   "metadata": {},
   "outputs": [],
   "source": [
    "predict[0,index]"
   ]
  },
  {
   "cell_type": "code",
   "execution_count": null,
   "metadata": {},
   "outputs": [],
   "source": [
    "name = create_readable_names_for_imagenet_labels()"
   ]
  },
  {
   "cell_type": "code",
   "execution_count": null,
   "metadata": {},
   "outputs": [],
   "source": [
    "name[index+1]"
   ]
  },
  {
   "cell_type": "code",
   "execution_count": null,
   "metadata": {
    "scrolled": false
   },
   "outputs": [],
   "source": [
    "k = 5\n",
    "top_k = np.argsort(predict, axis=-1)[0, -k:][::-1]\n",
    "print (top_k)"
   ]
  },
  {
   "cell_type": "code",
   "execution_count": null,
   "metadata": {},
   "outputs": [],
   "source": [
    "for index in top_k:\n",
    "    print (name[index+1], predict[0,index])    "
   ]
  },
  {
   "cell_type": "code",
   "execution_count": null,
   "metadata": {},
   "outputs": [],
   "source": []
  }
 ],
 "metadata": {
  "kernelspec": {
   "display_name": "Python 3",
   "language": "python",
   "name": "python3"
  },
  "language_info": {
   "codemirror_mode": {
    "name": "ipython",
    "version": 3
   },
   "file_extension": ".py",
   "mimetype": "text/x-python",
   "name": "python",
   "nbconvert_exporter": "python",
   "pygments_lexer": "ipython3",
   "version": "3.5.5"
  }
 },
 "nbformat": 4,
 "nbformat_minor": 2
}
