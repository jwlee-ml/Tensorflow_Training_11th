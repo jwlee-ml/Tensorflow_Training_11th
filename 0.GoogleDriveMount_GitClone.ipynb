{
  "nbformat": 4,
  "nbformat_minor": 0,
  "metadata": {
    "colab": {
      "name": "GoogleDriveMount_GitClone.ipynb",
      "version": "0.3.2",
      "provenance": []
    },
    "kernelspec": {
      "name": "python3",
      "display_name": "Python 3"
    }
  },
  "cells": [
    {
      "metadata": {
        "id": "UbQP7KK_IxAo",
        "colab_type": "code",
        "colab": {}
      },
      "cell_type": "code",
      "source": [
        "from google.colab import drive"
      ],
      "execution_count": 0,
      "outputs": []
    },
    {
      "metadata": {
        "id": "Z7MnOj8rKE2T",
        "colab_type": "text"
      },
      "cell_type": "markdown",
      "source": [
        "아래 명령 실행 후, URL이 나오면 click한 후 나오는 authorization code를 아래 입력칸에 입력후 enter"
      ]
    },
    {
      "metadata": {
        "id": "7DN8w6wYI41f",
        "colab_type": "code",
        "colab": {}
      },
      "cell_type": "code",
      "source": [
        "import os\n",
        "if not os.path.exists('/content/gdrive'):\n",
        "  drive.mount('/content/gdrive')"
      ],
      "execution_count": 0,
      "outputs": []
    },
    {
      "metadata": {
        "id": "0a1whwb3JAcI",
        "colab_type": "code",
        "colab": {
          "base_uri": "https://localhost:8080/",
          "height": 35
        },
        "outputId": "d0aa44e3-2dcd-41c1-8765-a3a271859e84"
      },
      "cell_type": "code",
      "source": [
        "cd /content/gdrive/'My Drive'"
      ],
      "execution_count": 5,
      "outputs": [
        {
          "output_type": "stream",
          "text": [
            "/content/gdrive/My Drive\n"
          ],
          "name": "stdout"
        }
      ]
    },
    {
      "metadata": {
        "id": "CZwTR2HsJfBM",
        "colab_type": "code",
        "colab": {}
      },
      "cell_type": "code",
      "source": [
        "if not os.path.exists('Tensorflow_Training_11th'):\n",
        "  !git clone https://github.com/jwlee-ml/Tensorflow_Training_11th.git"
      ],
      "execution_count": 0,
      "outputs": []
    },
    {
      "metadata": {
        "id": "lNQWglNEJ-63",
        "colab_type": "code",
        "colab": {
          "base_uri": "https://localhost:8080/",
          "height": 35
        },
        "outputId": "1f585116-87c9-45b0-d661-af9f293e1721"
      },
      "cell_type": "code",
      "source": [
        "cd Tensorflow_Training_11th"
      ],
      "execution_count": 7,
      "outputs": [
        {
          "output_type": "stream",
          "text": [
            "/content/gdrive/My Drive/Tensorflow_Training_11th\n"
          ],
          "name": "stdout"
        }
      ]
    },
    {
      "metadata": {
        "id": "9nFT8lxILagr",
        "colab_type": "code",
        "colab": {
          "base_uri": "https://localhost:8080/",
          "height": 35
        },
        "outputId": "f8303ea4-8694-40b7-e7c2-530b0f5100fd"
      },
      "cell_type": "code",
      "source": [
        "!git pull"
      ],
      "execution_count": 8,
      "outputs": [
        {
          "output_type": "stream",
          "text": [
            "Already up to date.\n"
          ],
          "name": "stdout"
        }
      ]
    },
    {
      "metadata": {
        "id": "QVK-tAIpNFI7",
        "colab_type": "code",
        "colab": {}
      },
      "cell_type": "code",
      "source": [
        ""
      ],
      "execution_count": 0,
      "outputs": []
    }
  ]
}