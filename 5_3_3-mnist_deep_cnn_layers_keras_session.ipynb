{
 "cells": [
  {
   "cell_type": "code",
   "execution_count": 1,
   "metadata": {},
   "outputs": [
    {
     "name": "stdout",
     "output_type": "stream",
     "text": [
      "1.12.0\n"
     ]
    }
   ],
   "source": [
    "import tensorflow as tf\n",
    "from tensorflow import keras\n",
    "import numpy as np\n",
    "import matplotlib.pyplot as plt\n",
    "\n",
    "print(tf.__version__)\n",
    "\n",
    "tf.set_random_seed(777)"
   ]
  },
  {
   "cell_type": "code",
   "execution_count": 2,
   "metadata": {},
   "outputs": [],
   "source": [
    "learning_rate = 0.001\n",
    "training_epochs = 20\n",
    "batch_size = 100"
   ]
  },
  {
   "cell_type": "code",
   "execution_count": 3,
   "metadata": {},
   "outputs": [],
   "source": [
    "mnist = keras.datasets.mnist\n",
    "class_names = ['0', '1', '2', '3', '4', '5', '6', '7', '8', '9']\n",
    "#mnist = keras.datasets.fashion_mnist\n",
    "#class_names = ['T-shirt/top', 'Trouser', 'Pullover', 'Dress', 'Coat', 'Sandal', 'Shirt', 'Sneaker', 'Bag', 'Ankle boot']"
   ]
  },
  {
   "cell_type": "code",
   "execution_count": 4,
   "metadata": {},
   "outputs": [],
   "source": [
    "(train_images, train_labels), (test_images, test_labels) = mnist.load_data()"
   ]
  },
  {
   "cell_type": "code",
   "execution_count": 5,
   "metadata": {},
   "outputs": [],
   "source": [
    "train_dataset = tf.data.Dataset.from_tensor_slices((train_images, train_labels)).shuffle(\n",
    "    buffer_size=100000).prefetch(buffer_size=batch_size).batch(batch_size).repeat()\n",
    "test_dataset = tf.data.Dataset.from_tensor_slices((test_images, test_labels)).shuffle(\n",
    "    buffer_size=100000).prefetch(buffer_size=batch_size).batch(batch_size).repeat()"
   ]
  },
  {
   "cell_type": "code",
   "execution_count": 6,
   "metadata": {},
   "outputs": [],
   "source": [
    "iterator = tf.data.Iterator.from_structure(train_dataset.output_types, train_dataset.output_shapes)\n",
    "images, labels = iterator.get_next()"
   ]
  },
  {
   "cell_type": "code",
   "execution_count": 7,
   "metadata": {},
   "outputs": [],
   "source": [
    "train_init = iterator.make_initializer(train_dataset)\n",
    "test_init = iterator.make_initializer(test_dataset)"
   ]
  },
  {
   "cell_type": "code",
   "execution_count": 8,
   "metadata": {},
   "outputs": [],
   "source": [
    "vec_images = tf.reshape(images, [-1, 28, 28, 1])\n",
    "vec_images = tf.cast(vec_images, tf.float32) / 255.\n",
    "onehot_labels = tf.one_hot(labels, 10)"
   ]
  },
  {
   "cell_type": "code",
   "execution_count": 9,
   "metadata": {},
   "outputs": [],
   "source": [
    "drop_rate = tf.placeholder(tf.float32)"
   ]
  },
  {
   "cell_type": "code",
   "execution_count": 10,
   "metadata": {},
   "outputs": [
    {
     "data": {
      "text/plain": [
       "<tf.Tensor 'max_pooling2d_2/MaxPool:0' shape=(?, 4, 4, 64) dtype=float32>"
      ]
     },
     "execution_count": 10,
     "metadata": {},
     "output_type": "execute_result"
    }
   ],
   "source": [
    "L1 = keras.layers.Conv2D(filters=32, kernel_size=[3, 3], padding='SAME', activation=tf.nn.relu)(vec_images)\n",
    "L1 = keras.layers.MaxPool2D(pool_size=[2, 2], padding='SAME', strides=2)(L1)\n",
    "\n",
    "L2 = keras.layers.Conv2D(filters=64, kernel_size=[3, 3], padding='SAME', activation=tf.nn.relu)(L1)\n",
    "L2 = keras.layers.MaxPool2D(pool_size=[2, 2], padding='SAME', strides=2)(L2)\n",
    "\n",
    "L3 = keras.layers.Conv2D(filters=128, kernel_size=[3, 3], padding='SAME', activation=tf.nn.relu)(L2)\n",
    "L3 = keras.layers.MaxPool2D(pool_size=[2, 2], padding='SAME', strides=2)(L2)"
   ]
  },
  {
   "cell_type": "code",
   "execution_count": 11,
   "metadata": {},
   "outputs": [
    {
     "data": {
      "text/plain": [
       "<tf.Tensor 'dense_1/BiasAdd:0' shape=(?, 10) dtype=float32>"
      ]
     },
     "execution_count": 11,
     "metadata": {},
     "output_type": "execute_result"
    }
   ],
   "source": [
    "L3_flat = keras.layers.Flatten()(L3)\n",
    "L4 = keras.layers.Dense(units=256, activation=tf.nn.relu)(L3_flat)\n",
    "L4 = keras.layers.Dropout(rate=drop_rate)(L4)\n",
    "hypothesis = keras.layers.Dense(units=10)(L4)"
   ]
  },
  {
   "cell_type": "code",
   "execution_count": 12,
   "metadata": {},
   "outputs": [],
   "source": [
    "cost = tf.reduce_mean(tf.nn.softmax_cross_entropy_with_logits_v2(\n",
    "    logits=hypothesis, labels=onehot_labels))\n",
    "optimizer = tf.train.AdamOptimizer(learning_rate=learning_rate).minimize(cost)"
   ]
  },
  {
   "cell_type": "code",
   "execution_count": 13,
   "metadata": {},
   "outputs": [],
   "source": [
    "correct_prediction = tf.equal(tf.argmax(hypothesis, 1), tf.argmax(onehot_labels, 1))\n",
    "accuracy = tf.reduce_mean(tf.cast(correct_prediction, tf.float32))"
   ]
  },
  {
   "cell_type": "code",
   "execution_count": 14,
   "metadata": {},
   "outputs": [],
   "source": [
    "sess = tf.Session(config=tf.ConfigProto(gpu_options=tf.GPUOptions(allow_growth =True)))\n",
    "sess.run(tf.global_variables_initializer())"
   ]
  },
  {
   "cell_type": "code",
   "execution_count": 15,
   "metadata": {
    "scrolled": false
   },
   "outputs": [
    {
     "name": "stdout",
     "output_type": "stream",
     "text": [
      "Learning started. It takes sometime.\n",
      "Epoch: 1 cost = 0.20922424 train accuracy =  0.9357 test accuracy =  0.9832\n",
      "Epoch: 2 cost = 0.05344573 train accuracy =  0.9833 test accuracy =  0.9891\n",
      "Epoch: 3 cost = 0.03830758 train accuracy =  0.9878 test accuracy =  0.9889\n",
      "Epoch: 4 cost = 0.03011431 train accuracy =  0.9906 test accuracy =  0.9890\n",
      "Epoch: 5 cost = 0.02494540 train accuracy =  0.9920 test accuracy =  0.9905\n",
      "Epoch: 6 cost = 0.01952608 train accuracy =  0.9939 test accuracy =  0.9914\n",
      "Epoch: 7 cost = 0.01587917 train accuracy =  0.9948 test accuracy =  0.9916\n",
      "Epoch: 8 cost = 0.01177452 train accuracy =  0.9965 test accuracy =  0.9925\n",
      "Epoch: 9 cost = 0.01004574 train accuracy =  0.9968 test accuracy =  0.9914\n",
      "Epoch: 10 cost = 0.00974219 train accuracy =  0.9966 test accuracy =  0.9913\n",
      "Epoch: 11 cost = 0.00923791 train accuracy =  0.9969 test accuracy =  0.9917\n",
      "Epoch: 12 cost = 0.00765314 train accuracy =  0.9973 test accuracy =  0.9921\n",
      "Epoch: 13 cost = 0.00639911 train accuracy =  0.9979 test accuracy =  0.9916\n",
      "Epoch: 14 cost = 0.00686676 train accuracy =  0.9979 test accuracy =  0.9904\n",
      "Epoch: 15 cost = 0.00616419 train accuracy =  0.9978 test accuracy =  0.9912\n",
      "Epoch: 16 cost = 0.00639604 train accuracy =  0.9977 test accuracy =  0.9909\n",
      "Epoch: 17 cost = 0.00466049 train accuracy =  0.9983 test accuracy =  0.9925\n",
      "Epoch: 18 cost = 0.00437919 train accuracy =  0.9985 test accuracy =  0.9919\n",
      "Epoch: 19 cost = 0.00488280 train accuracy =  0.9985 test accuracy =  0.9924\n",
      "Epoch: 20 cost = 0.00396468 train accuracy =  0.9987 test accuracy =  0.9926\n",
      "Learning Finished!\n"
     ]
    }
   ],
   "source": [
    "# train my model\n",
    "print('Learning started. It takes sometime.')\n",
    "max_test_acc = 0.\n",
    "for epoch in range(training_epochs):\n",
    "    avg_cost = 0.\n",
    "    avg_train_acc = 0.\n",
    "    avg_test_acc = 0.\n",
    "    \n",
    "    total_batch = int(train_images.shape[0] / batch_size)\n",
    "    total_batch_test = int(test_images.shape[0] / batch_size)\n",
    "    \n",
    "    sess.run(train_init)\n",
    "    for i in range(total_batch):\n",
    "        acc, c, _ = sess.run([accuracy, cost, optimizer], feed_dict={drop_rate:0.4})\n",
    "        avg_cost += c / total_batch\n",
    "        avg_train_acc += acc / total_batch\n",
    "        \n",
    "    sess.run(test_init)        \n",
    "    for i in range(total_batch_test):\n",
    "        acc = sess.run(accuracy, feed_dict={drop_rate:0.})\n",
    "        avg_test_acc += acc / total_batch_test\n",
    "\n",
    "    print('Epoch:', '{}'.format(epoch + 1), 'cost =', '{:.8f}'.format(avg_cost), \n",
    "          'train accuracy = ', '{:.4f}'.format(avg_train_acc), \n",
    "          'test accuracy = ', '{:.4f}'.format(avg_test_acc))\n",
    "\n",
    "\n",
    "print('Learning Finished!')"
   ]
  },
  {
   "cell_type": "code",
   "execution_count": 16,
   "metadata": {},
   "outputs": [],
   "source": [
    "def plot_image(i, predictions_array, true_label, img):\n",
    "    predictions_array, true_label, img = predictions_array[i], true_label[i], img[i]\n",
    "    plt.grid(False)\n",
    "    plt.xticks([])\n",
    "    plt.yticks([])\n",
    "\n",
    "    plt.imshow(img, cmap=plt.cm.binary)\n",
    "\n",
    "    predicted_label = np.argmax(predictions_array)\n",
    "    if predicted_label == true_label:\n",
    "        color = 'blue'\n",
    "    else:\n",
    "        color = 'red'\n",
    "\n",
    "    plt.xlabel(\"{} {:2.0f}% ({})\".format(class_names[predicted_label],\n",
    "                                100*np.max(predictions_array),\n",
    "                                class_names[true_label]),\n",
    "                                color=color)\n",
    "\n",
    "def plot_value_array(i, predictions_array, true_label):\n",
    "    predictions_array, true_label = predictions_array[i], true_label[i]\n",
    "    plt.grid(False)\n",
    "    #plt.xticks([])\n",
    "    plt.xticks(range(10), class_names, rotation=90)\n",
    "    plt.yticks([])\n",
    "    thisplot = plt.bar(range(10), predictions_array, color=\"#777777\")\n",
    "    plt.ylim([0, 1]) \n",
    "    predicted_label = np.argmax(predictions_array)\n",
    " \n",
    "    thisplot[predicted_label].set_color('red')\n",
    "    thisplot[true_label].set_color('blue')"
   ]
  },
  {
   "cell_type": "code",
   "execution_count": 17,
   "metadata": {
    "scrolled": false
   },
   "outputs": [
    {
     "data": {
      "image/png": "[encoded data removed]",
      "text/plain": [
       "<Figure size 1296x1080 with 30 Axes>"
      ]
     },
     "metadata": {},
     "output_type": "display_data"
    }
   ],
   "source": [
    "prob = tf.nn.softmax(hypothesis)\n",
    "#sess.run(test_init)\n",
    "imgs, lbs, x, y = sess.run([images, labels, vec_images, onehot_labels])\n",
    "predictions = sess.run(prob, feed_dict={vec_images:x, onehot_labels:y, drop_rate:0.})\n",
    "num_rows = 5\n",
    "num_cols = 3\n",
    "num_images = num_rows*num_cols\n",
    "plt.figure(figsize=(3*2*num_cols, 3*num_rows))\n",
    "for i in range(num_images):\n",
    "    plt.subplot(num_rows, 2*num_cols, 2*i+1)\n",
    "    plot_image(i, predictions, lbs, imgs)\n",
    "    plt.subplot(num_rows, 2*num_cols, 2*i+2)\n",
    "    plot_value_array(i, predictions, lbs)"
   ]
  },
  {
   "cell_type": "code",
   "execution_count": null,
   "metadata": {},
   "outputs": [],
   "source": []
  }
 ],
 "metadata": {
  "kernelspec": {
   "display_name": "Python 3",
   "language": "python",
   "name": "python3"
  },
  "language_info": {
   "codemirror_mode": {
    "name": "ipython",
    "version": 3
   },
   "file_extension": ".py",
   "mimetype": "text/x-python",
   "name": "python",
   "nbconvert_exporter": "python",
   "pygments_lexer": "ipython3",
   "version": "3.5.5"
  }
 },
 "nbformat": 4,
 "nbformat_minor": 2
}
